{
 "cells": [
  {
   "cell_type": "code",
   "execution_count": 1,
   "metadata": {},
   "outputs": [],
   "source": [
    "import numpy as np\n",
    "import matplotlib.pyplot as plt\n",
    "import cv2"
   ]
  },
  {
   "cell_type": "code",
   "execution_count": 2,
   "metadata": {},
   "outputs": [],
   "source": [
    "def capture_sign(image, x, y , w, h, count):\n",
    "    sign_arr = image[y:y+h,x:x+w,0]\n",
    "    if sign_arr.shape[0] > 0 and sign_arr.shape[1] > 0:\n",
    "        cv2.imwrite(f\"captures_sign/sign{count}.png\", sign_arr)"
   ]
  },
  {
   "cell_type": "code",
   "execution_count": 3,
   "metadata": {},
   "outputs": [],
   "source": [
    "def detect_sign(imag=[], cascade=\"stop_cascade.xml\", color=(255, 0, 0), thickness=5):\n",
    "    URL = 'data/traffic_cascades/'\n",
    "    sign_cascade = cv2.CascadeClassifier(f'{URL}{cascade}')\n",
    "    imag1 = imag.copy()\n",
    "    rectangles = sign_cascade.detectMultiScale(imag1)\n",
    "    count = 0\n",
    "    for (x,y,w,h) in rectangles:\n",
    "        capture_sign(imag1,x,y,w,h,count)\n",
    "        cv2.rectangle(imag1, (x,y), (x+w, y+h), color, thickness)\n",
    "        count += 1\n",
    "    return imag1"
   ]
  },
  {
   "cell_type": "code",
   "execution_count": 4,
   "metadata": {},
   "outputs": [],
   "source": [
    "def run_video_capture():\n",
    "    capt = cv2.VideoCapture(0)\n",
    "    while True:\n",
    "        res,video = capt.read(0)\n",
    "        if not res:\n",
    "            print(\"not res\")\n",
    "            res, video = reset(capt)\n",
    "        video = detect_sign(video)\n",
    "        cv2.imshow('Detect traffic signs', video)\n",
    "        key = cv2.waitKey(1)\n",
    "        if key == 27:\n",
    "            break\n",
    "    capt.release()\n",
    "    cv2.destroyAllWindows() "
   ]
  },
  {
   "cell_type": "code",
   "execution_count": 5,
   "metadata": {},
   "outputs": [],
   "source": [
    "def main():\n",
    "    run_video_capture()\n",
    "    \n",
    "def reset(capture):\n",
    "    capture.release()\n",
    "    cv2.destroyAllWindows()\n",
    "    return cv2.VideoCapture(0).read(0)"
   ]
  },
  {
   "cell_type": "code",
   "execution_count": 6,
   "metadata": {},
   "outputs": [],
   "source": [
    "main()"
   ]
  },
  {
   "cell_type": "code",
   "execution_count": null,
   "metadata": {},
   "outputs": [],
   "source": []
  },
  {
   "cell_type": "code",
   "execution_count": null,
   "metadata": {},
   "outputs": [],
   "source": []
  }
 ],
 "metadata": {
  "kernelspec": {
   "display_name": "Python 3",
   "language": "python",
   "name": "python3"
  },
  "language_info": {
   "codemirror_mode": {
    "name": "ipython",
    "version": 3
   },
   "file_extension": ".py",
   "mimetype": "text/x-python",
   "name": "python",
   "nbconvert_exporter": "python",
   "pygments_lexer": "ipython3",
   "version": "3.7.5"
  }
 },
 "nbformat": 4,
 "nbformat_minor": 4
}
